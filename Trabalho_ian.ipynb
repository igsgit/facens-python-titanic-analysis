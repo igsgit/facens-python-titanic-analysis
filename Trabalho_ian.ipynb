{
  "cells": [
    {
      "cell_type": "markdown",
      "metadata": {
        "id": "LvTRZZisW_3u"
      },
      "source": [
        "# **Trabalho Final**\n",
        "### Algoritmos e Programação com Linguagem Python\n",
        "---\n",
        "\n",
        "**Orientações Gerais:**\n",
        "\n",
        "* Esta é o trabalho final prático onde serão trabalhados conceitos\n",
        "apresentados e exercitados em sala de aula.\n",
        "\n",
        "* Aspéctos como clareza e organização do código, comentários, raciocínio lógico, coerência no nome de variáveis, utilização das estruturas mais adequadas para a solução dos problemas e o funcionamento adequado serão analisados e irão compor o valor da nota final.\n",
        "\n",
        "* Procure entender exatamente o que se pede antes de iniciar a codificação. Quando se sabe o que é necessário fazer, a codificação fica mais fácil, mais eficiente e mais divertida ;-).\n",
        "\n",
        "* Faça o upload do notebook completo nomeado da seguinte forma: *nome_sobrenome_RA.ipynb*.\n",
        "\n",
        "* No caso de grupos, informar ao professor os membros de cada grupo e cada um deverá importar o arquivo no Canvas individualmente.\n",
        "\n",
        "* Arquivos com nomes incorretos serão desconsiderados!\n",
        "\n",
        "* Não deixem dúvidas para trás! Acessem os grupos combinados ou entrem em contato com o professor.\n",
        "\n",
        "✌ Sucesso o/\n",
        "\n",
        "\n",
        "\n",
        "\n"
      ]
    },
    {
      "cell_type": "markdown",
      "metadata": {
        "id": "xEBhSxBGTgS0"
      },
      "source": [
        "# RMS Titanic\n",
        "\n",
        "O RMS Titanic foi um navio de passageiros britânico operado pela White Star Line e construído pelos estaleiros da Harland and Wolff em Belfast. Foi a segunda embarcação da Classe Olympic de transatlânticos depois do RMS Olympic e seguido pelo HMHS Britannic. Projetado pelos engenheiros navais Alexander Carlisle e Thomas Andrews, sua construção começou em março de 1909 e ele foi lançado ao mar em maio de 1911. O Titanic foi pensado para ser o navio mais luxuoso e mais seguro de sua época, gerando lendas que era supostamente \"inafundável\".\n",
        "\n",
        "A embarcação partiu em sua viagem inaugural de Southampton para Nova Iorque em 10 de abril de 1912, no caminho passando em Cherbourg-Octeville na França e por Queenstown na Irlanda. Ele colidiu com um iceberg às 23h40min do dia 14 de abril e afundou na madrugada do dia seguinte matando mais de 1500 pessoas, sendo um dos maiores desastres marítimos em tempos de paz de toda a história. Seu naufrágio destacou vários pontos fracos de seu projeto, deficiências nos procedimentos de evacuação de emergência e falhas nas regulamentações marítimas da época. Comissões de inquérito foram instauradas nos Estados Unidos e no Reino Unido, levando a mudanças nas leis internacionais de navegação que permanecem em vigor mais de um século depois.\n",
        "\n",
        "Os destroços do Titanic foram procurados por décadas até serem encontrados em 1985 por uma equipe liderada por Robert Ballard. Ele se encontra a 3843 m de profundidade e a 650 km ao sudeste de Terra Nova no Canadá. Sua história e naufrágio permaneceram no imaginário popular durante décadas, levando a produção de vários livros e filmes a seu respeito, mais notavelmente o filme Titanic de 1997. Até hoje o Titanic permanece como um dos navios mais famosos da história, com seus destroços atraindo várias expedições de exploração ao longo dos anos.\n",
        "\n",
        "*Fonte:* [WikiPedia](https://pt.wikipedia.org/wiki/RMS_Titanic)\n",
        "\n",
        "--------"
      ]
    },
    {
      "cell_type": "markdown",
      "metadata": {
        "id": "L1MhpnxMTgS2"
      },
      "source": [
        "A equipe da [Udacity](https://udacity.com) disponibilizou informações sobre uma parte dos passageiros à bordo do RMS Titanic no dia daquela tragédia. Esse _dataset_ que contém informações reais vem sendo utilizado em diversos estudos de caso, além de servir de base para aprendizado de Ciência de Dados, Estatística e Machine Learning.\n",
        "\n",
        "O arquivo **titanic_data.csv** contém informações reais sobre os passageiros organizadas da seguinte forma:\n",
        "\n",
        "- Survived (Sobreviveu): 0 = Não, 1 = Sim\n",
        "- Pclass (Classe): Classe de ingresso 1 = 1º, 2 = 2º, 3 = 3º\n",
        "- Sex (Sexo): Sexo do passageiro\n",
        "- Age (Idade): Idade em anos\n",
        "- Sibsp: Quantidade de irmãos / cônjuges a bordo do Titanic\n",
        "- Parch: Quantidade de pais / crianças a bordo do Titanic\n",
        "- Ticket (Bilhete): Número do bilhete de embarque\n",
        "- Fare (Tarifa): Tarifa paga pelo Passageiro\n",
        "- Cabin (Cabine): Número de cabine\n",
        "- Embarked (Embarque): Porto de Embarque (C = Cherbourg, Q = Queenstown, S = Southampton)\n",
        "\n",
        "O objetivo deste estudo é obter algumas informações estatísticas sobre a tragédia e realizar alguns _insights_ a respeito dos tripulantes e das circunstâncias do acidente.\n",
        "\n",
        "Efetue a carga do arquivo através da biblioteca _Pandas_ e a partir do _DataFrame_ gerado, efetue as operações necessárias para responder as questões.\n"
      ]
    },
    {
      "cell_type": "markdown",
      "metadata": {
        "id": "O2wsN6iSTgS2"
      },
      "source": [
        "## Importando o DataSet"
      ]
    },
    {
      "cell_type": "markdown",
      "metadata": {
        "id": "B4UlEZmATgS3"
      },
      "source": [
        "1 - Efetuar a leitura do dataset através do Pandas, gerando um DataFrame de nome tit, levando-se em consideração que o arquivo encontra-se na mesma pasta do notebook."
      ]
    },
    {
      "cell_type": "code",
      "execution_count": 5,
      "metadata": {
        "id": "WI7aXfnzTjHQ",
        "colab": {
          "base_uri": "https://localhost:8080/"
        },
        "outputId": "f0c77f62-715f-407c-9313-c8e19847aa54"
      },
      "outputs": [
        {
          "output_type": "stream",
          "name": "stdout",
          "text": [
            "   PassengerId  Survived  Pclass  \\\n",
            "0            1         0       3   \n",
            "1            2         1       1   \n",
            "2            3         1       3   \n",
            "3            4         1       1   \n",
            "4            5         0       3   \n",
            "\n",
            "                                                Name     Sex   Age  SibSp  \\\n",
            "0                            Braund, Mr. Owen Harris    male  22.0      1   \n",
            "1  Cumings, Mrs. John Bradley (Florence Briggs Th...  female  38.0      1   \n",
            "2                             Heikkinen, Miss. Laina  female  26.0      0   \n",
            "3       Futrelle, Mrs. Jacques Heath (Lily May Peel)  female  35.0      1   \n",
            "4                           Allen, Mr. William Henry    male  35.0      0   \n",
            "\n",
            "   Parch            Ticket     Fare Cabin Embarked  \n",
            "0      0         A/5 21171   7.2500   NaN        S  \n",
            "1      0          PC 17599  71.2833   C85        C  \n",
            "2      0  STON/O2. 3101282   7.9250   NaN        S  \n",
            "3      0            113803  53.1000  C123        S  \n",
            "4      0            373450   8.0500   NaN        S  \n"
          ]
        }
      ],
      "source": [
        "import pandas as pd\n",
        "\n",
        "archive = \"/content/titanic_data.csv\"\n",
        "tit = pd.read_csv(archive)\n",
        "\n",
        "print(tit.head()) # Exibindo as primeiras linhas"
      ]
    },
    {
      "cell_type": "markdown",
      "metadata": {
        "id": "2iQYh_DATgS4"
      },
      "source": [
        "## Conhecendo o DataSet"
      ]
    },
    {
      "cell_type": "markdown",
      "metadata": {
        "id": "rypSFW-qTgS4"
      },
      "source": [
        "2 - Quantas linhas e colunas tem o dataset? Quais os tipos das colunas?"
      ]
    },
    {
      "cell_type": "code",
      "execution_count": 6,
      "metadata": {
        "id": "IyrMKzaQTkkx",
        "colab": {
          "base_uri": "https://localhost:8080/"
        },
        "outputId": "782ed069-36b0-4d55-d90a-94521d73d005"
      },
      "outputs": [
        {
          "output_type": "stream",
          "name": "stdout",
          "text": [
            "O dataset tem 891 linhas e 12 colunas.\n",
            "\n",
            "Tipos de dados das colunas:\n",
            "PassengerId      int64\n",
            "Survived         int64\n",
            "Pclass           int64\n",
            "Name            object\n",
            "Sex             object\n",
            "Age            float64\n",
            "SibSp            int64\n",
            "Parch            int64\n",
            "Ticket          object\n",
            "Fare           float64\n",
            "Cabin           object\n",
            "Embarked        object\n",
            "dtype: object\n"
          ]
        }
      ],
      "source": [
        "num_linhas, num_colunas = tit.shape # Retorna uma tupla com o número de linhas e colunas\n",
        "print(f\"O dataset tem {num_linhas} linhas e {num_colunas} colunas.\")\n",
        "\n",
        "tipos_de_dados = tit.dtypes # Tipos de dados das colunas\n",
        "print(\"\\nTipos de dados das colunas:\")\n",
        "print(tipos_de_dados)"
      ]
    },
    {
      "cell_type": "markdown",
      "metadata": {
        "id": "L40fXuSRTgS5"
      },
      "source": [
        "3 - Mostre os dados dos dez primeiros e 8 últimos registros do dataset."
      ]
    },
    {
      "cell_type": "code",
      "execution_count": 7,
      "metadata": {
        "id": "QEFq1_V8TmAZ",
        "colab": {
          "base_uri": "https://localhost:8080/"
        },
        "outputId": "3f963c54-b707-4d50-b4d4-dd6203f269b7"
      },
      "outputs": [
        {
          "output_type": "stream",
          "name": "stdout",
          "text": [
            "Abaixo estão os dez primeiros registros do dataset:\n",
            "\n",
            "   PassengerId  Survived  Pclass  \\\n",
            "0            1         0       3   \n",
            "1            2         1       1   \n",
            "2            3         1       3   \n",
            "3            4         1       1   \n",
            "4            5         0       3   \n",
            "5            6         0       3   \n",
            "6            7         0       1   \n",
            "7            8         0       3   \n",
            "8            9         1       3   \n",
            "9           10         1       2   \n",
            "\n",
            "                                                Name     Sex   Age  SibSp  \\\n",
            "0                            Braund, Mr. Owen Harris    male  22.0      1   \n",
            "1  Cumings, Mrs. John Bradley (Florence Briggs Th...  female  38.0      1   \n",
            "2                             Heikkinen, Miss. Laina  female  26.0      0   \n",
            "3       Futrelle, Mrs. Jacques Heath (Lily May Peel)  female  35.0      1   \n",
            "4                           Allen, Mr. William Henry    male  35.0      0   \n",
            "5                                   Moran, Mr. James    male   NaN      0   \n",
            "6                            McCarthy, Mr. Timothy J    male  54.0      0   \n",
            "7                     Palsson, Master. Gosta Leonard    male   2.0      3   \n",
            "8  Johnson, Mrs. Oscar W (Elisabeth Vilhelmina Berg)  female  27.0      0   \n",
            "9                Nasser, Mrs. Nicholas (Adele Achem)  female  14.0      1   \n",
            "\n",
            "   Parch            Ticket     Fare Cabin Embarked  \n",
            "0      0         A/5 21171   7.2500   NaN        S  \n",
            "1      0          PC 17599  71.2833   C85        C  \n",
            "2      0  STON/O2. 3101282   7.9250   NaN        S  \n",
            "3      0            113803  53.1000  C123        S  \n",
            "4      0            373450   8.0500   NaN        S  \n",
            "5      0            330877   8.4583   NaN        Q  \n",
            "6      0             17463  51.8625   E46        S  \n",
            "7      1            349909  21.0750   NaN        S  \n",
            "8      2            347742  11.1333   NaN        S  \n",
            "9      0            237736  30.0708   NaN        C  \n",
            "\n",
            "\n",
            "Abaixo estão os oito últimos registros do dataset:\n",
            "\n",
            "     PassengerId  Survived  Pclass                                      Name  \\\n",
            "883          884         0       2             Banfield, Mr. Frederick James   \n",
            "884          885         0       3                    Sutehall, Mr. Henry Jr   \n",
            "885          886         0       3      Rice, Mrs. William (Margaret Norton)   \n",
            "886          887         0       2                     Montvila, Rev. Juozas   \n",
            "887          888         1       1              Graham, Miss. Margaret Edith   \n",
            "888          889         0       3  Johnston, Miss. Catherine Helen \"Carrie\"   \n",
            "889          890         1       1                     Behr, Mr. Karl Howell   \n",
            "890          891         0       3                       Dooley, Mr. Patrick   \n",
            "\n",
            "        Sex   Age  SibSp  Parch            Ticket    Fare Cabin Embarked  \n",
            "883    male  28.0      0      0  C.A./SOTON 34068  10.500   NaN        S  \n",
            "884    male  25.0      0      0   SOTON/OQ 392076   7.050   NaN        S  \n",
            "885  female  39.0      0      5            382652  29.125   NaN        Q  \n",
            "886    male  27.0      0      0            211536  13.000   NaN        S  \n",
            "887  female  19.0      0      0            112053  30.000   B42        S  \n",
            "888  female   NaN      1      2        W./C. 6607  23.450   NaN        S  \n",
            "889    male  26.0      0      0            111369  30.000  C148        C  \n",
            "890    male  32.0      0      0            370376   7.750   NaN        Q  \n"
          ]
        }
      ],
      "source": [
        "print(\"Abaixo estão os dez primeiros registros do dataset:\\n\")\n",
        "print(tit.head(10)) # Exibir os dez primeiros registros\n",
        "\n",
        "print(\"\\n\\nAbaixo estão os oito últimos registros do dataset:\\n\")\n",
        "print(tit.tail(8)) # Exibir os oito últimos registros"
      ]
    },
    {
      "cell_type": "markdown",
      "metadata": {
        "id": "cZyn3_NOTgS6"
      },
      "source": [
        "4 - Cálculos envolvendo colunas numéricas com dados faltantes podem sofrer impacto. É possível afirmar se há dados faltantes no dataset? Caso positivo, quais e quantos seriam esses dados? Preencha os dados faltantes de forma que não influenciem em operações futuras."
      ]
    },
    {
      "cell_type": "code",
      "execution_count": 8,
      "metadata": {
        "id": "Mj5d7y5ZTnbi",
        "colab": {
          "base_uri": "https://localhost:8080/"
        },
        "outputId": "9ad9e4b9-b594-47ae-c77b-d91064dd94e8"
      },
      "outputs": [
        {
          "output_type": "stream",
          "name": "stdout",
          "text": [
            "Quantidade de dados faltantes por coluna após o preenchimento:\n",
            "PassengerId      0\n",
            "Survived         0\n",
            "Pclass           0\n",
            "Name             0\n",
            "Sex              0\n",
            "Age            177\n",
            "SibSp            0\n",
            "Parch            0\n",
            "Ticket           0\n",
            "Fare             0\n",
            "Cabin          687\n",
            "Embarked         2\n",
            "dtype: int64\n"
          ]
        }
      ],
      "source": [
        "def verificar_dados_faltantes(df):\n",
        "    dados_faltantes = df.isnull().sum()\n",
        "    print(\"Quantidade de dados faltantes por coluna após o preenchimento:\")\n",
        "    print(dados_faltantes)\n",
        "\n",
        "verificar_dados_faltantes(tit)"
      ]
    },
    {
      "cell_type": "code",
      "source": [
        "# Regressão linear multipla para preencher os dados faltantes de idade\n",
        "\n",
        "import pandas as pd\n",
        "from sklearn.linear_model import LinearRegression  # Modelo de regressão linear do scikit-learn\n",
        "from sklearn.preprocessing import OneHotEncoder  # Importa o codificador one-hot do scikit-learn\n",
        "from sklearn.compose import ColumnTransformer  # Importa a função ColumnTransformer do scikit-learn\n",
        "from sklearn.metrics import r2_score  # Importa a métrica R² do scikit-learn\n",
        "\n",
        "file_path = \"/content/titanic_data.csv\"\n",
        "tit = pd.read_csv(file_path)\n",
        "\n",
        "# Seleciona apenas as colunas necessárias para a regressão\n",
        "dados_para_regressao = tit[['Age', 'Ticket', 'Sex', 'Fare', 'Pclass', 'SibSp', 'Parch']]\n",
        "\n",
        "# Filtra apenas as linhas onde Age não é nulo e armazena em dados_preencher\n",
        "dados_preencher = dados_para_regressao[dados_para_regressao['Age'].notnull()]\n",
        "# Filtra apenas as linhas onde Age é nulo e armazena em dados_prever\n",
        "dados_prever = dados_para_regressao[dados_para_regressao['Age'].isnull()]\n",
        "\n",
        "# Armazena as variáveis independente em X_train, excluindo a coluna Age\n",
        "# axis=1 indica que estamos removendo colunas (1 para coluna, 0 para linha)\n",
        "X_train = dados_preencher.drop('Age', axis=1)\n",
        "\n",
        "# Armazena a variável dependente, para previsão, em y_train (Age)\n",
        "y_train = dados_preencher['Age']\n",
        "\n",
        "# Armazena as variáveis independentes (preditoras) em X_test para os dados a serem previstos, excluindo Age\n",
        "X_test = dados_prever.drop('Age', axis=1)\n",
        "\n",
        "# Lidar com variáveis categóricas (Ticket e Sex) usando codificação one-hot\n",
        "categorical_cols = ['Ticket', 'Sex']  # Colunas categóricas\n",
        "numerical_cols = ['Fare', 'Pclass', 'SibSp', 'Parch']  # Colunas numéricas, não serão alteradas\n",
        "\n",
        "preprocessor = ColumnTransformer(\n",
        "    transformers=[\n",
        "        ('cat', OneHotEncoder(handle_unknown='ignore'), categorical_cols), # converter variáveis categóricas em representações numéricas utilizando codificação one-hot\n",
        "                              # handle_unknown='ignore' é um argumento adicional para lidar com novas categorias não vistas durante o treinamento, ignorando-as durante a transformação.\n",
        "        ('num', 'passthrough', numerical_cols)  # Mantém as colunas numéricas sem alterações\n",
        "    ])\n",
        "\n",
        "# Transforma os dados de treinamento usando o preprocessor definido\n",
        "X_train_processed = preprocessor.fit_transform(X_train)\n",
        "\n",
        "# Transforma os dados de teste usando o mesmo preprocessor do treinamento\n",
        "X_test_processed = preprocessor.transform(X_test)\n",
        "\n",
        "# Criando e treinando o modelo de regressão\n",
        "modelo = LinearRegression()  # Cria um objeto de modelo de regressão linear\n",
        "modelo.fit(X_train_processed, y_train)  # Treina o modelo com os dados de treinamento\n",
        "\n",
        "# Gera previsões para os dados com Age faltando usando o modelo treinado\n",
        "valores_preenchidos = modelo.predict(X_test_processed)\n",
        "\n",
        "# Substitui os valores faltantes de Age no conjunto original pelos valores previstos\n",
        "dados_prever['Age'] = valores_preenchidos\n",
        "\n",
        "# Atualizar o DataFrame original (tit) com os valores preenchidos\n",
        "tit.loc[tit['Age'].isnull(), 'Age'] = dados_prever['Age'].values\n",
        "\n",
        "# Avaliar o desempenho do modelo utilizando Rsquare\n",
        "y_pred = modelo.predict(X_train_processed)  # Faz previsões para os dados de treinamento\n",
        "r2 = r2_score(y_train, y_pred)  # Calcula o coeficiente de determinação R²\n",
        "print(f\"R² do modelo: {r2:.4f}\\n\")\n",
        "\n",
        "verificar_dados_faltantes(tit)\n",
        "print('\\n')\n",
        "print(tit.head(10))"
      ],
      "metadata": {
        "id": "LUCW3_g9Hnhm",
        "colab": {
          "base_uri": "https://localhost:8080/"
        },
        "outputId": "5a7af523-882e-4268-b274-74d5cec0ff80"
      },
      "execution_count": 9,
      "outputs": [
        {
          "output_type": "stream",
          "name": "stdout",
          "text": [
            "R² do modelo: 0.8273\n",
            "\n",
            "Quantidade de dados faltantes por coluna após o preenchimento:\n",
            "PassengerId      0\n",
            "Survived         0\n",
            "Pclass           0\n",
            "Name             0\n",
            "Sex              0\n",
            "Age              0\n",
            "SibSp            0\n",
            "Parch            0\n",
            "Ticket           0\n",
            "Fare             0\n",
            "Cabin          687\n",
            "Embarked         2\n",
            "dtype: int64\n",
            "\n",
            "\n",
            "   PassengerId  Survived  Pclass  \\\n",
            "0            1         0       3   \n",
            "1            2         1       1   \n",
            "2            3         1       3   \n",
            "3            4         1       1   \n",
            "4            5         0       3   \n",
            "5            6         0       3   \n",
            "6            7         0       1   \n",
            "7            8         0       3   \n",
            "8            9         1       3   \n",
            "9           10         1       2   \n",
            "\n",
            "                                                Name     Sex        Age  \\\n",
            "0                            Braund, Mr. Owen Harris    male  22.000000   \n",
            "1  Cumings, Mrs. John Bradley (Florence Briggs Th...  female  38.000000   \n",
            "2                             Heikkinen, Miss. Laina  female  26.000000   \n",
            "3       Futrelle, Mrs. Jacques Heath (Lily May Peel)  female  35.000000   \n",
            "4                           Allen, Mr. William Henry    male  35.000000   \n",
            "5                                   Moran, Mr. James    male  25.168591   \n",
            "6                            McCarthy, Mr. Timothy J    male  54.000000   \n",
            "7                     Palsson, Master. Gosta Leonard    male   2.000000   \n",
            "8  Johnson, Mrs. Oscar W (Elisabeth Vilhelmina Berg)  female  27.000000   \n",
            "9                Nasser, Mrs. Nicholas (Adele Achem)  female  14.000000   \n",
            "\n",
            "   SibSp  Parch            Ticket     Fare Cabin Embarked  \n",
            "0      1      0         A/5 21171   7.2500   NaN        S  \n",
            "1      1      0          PC 17599  71.2833   C85        C  \n",
            "2      0      0  STON/O2. 3101282   7.9250   NaN        S  \n",
            "3      1      0            113803  53.1000  C123        S  \n",
            "4      0      0            373450   8.0500   NaN        S  \n",
            "5      0      0            330877   8.4583   NaN        Q  \n",
            "6      0      0             17463  51.8625   E46        S  \n",
            "7      3      1            349909  21.0750   NaN        S  \n",
            "8      0      2            347742  11.1333   NaN        S  \n",
            "9      1      0            237736  30.0708   NaN        C  \n"
          ]
        },
        {
          "output_type": "stream",
          "name": "stderr",
          "text": [
            "<ipython-input-9-31b0b19f935c>:55: SettingWithCopyWarning: \n",
            "A value is trying to be set on a copy of a slice from a DataFrame.\n",
            "Try using .loc[row_indexer,col_indexer] = value instead\n",
            "\n",
            "See the caveats in the documentation: https://pandas.pydata.org/pandas-docs/stable/user_guide/indexing.html#returning-a-view-versus-a-copy\n",
            "  dados_prever['Age'] = valores_preenchidos\n"
          ]
        }
      ]
    },
    {
      "cell_type": "markdown",
      "metadata": {
        "id": "NkmmE-G1TgS6"
      },
      "source": [
        "## Adequando o DataSet"
      ]
    },
    {
      "cell_type": "markdown",
      "metadata": {
        "id": "sHIXSM-3TgS6"
      },
      "source": [
        "5 - Uma vez que algumas colunas não serão utilizadas, eventualmente é melhor excluí-las para que não interfiram na análise. Assim, exclua do dataset as colunas Sibsp, Parch e Ticket."
      ]
    },
    {
      "cell_type": "code",
      "execution_count": 10,
      "metadata": {
        "id": "TovKKLO8TouW",
        "colab": {
          "base_uri": "https://localhost:8080/"
        },
        "outputId": "3a51d608-2458-45b1-e6e0-c62820cd6352"
      },
      "outputs": [
        {
          "output_type": "stream",
          "name": "stdout",
          "text": [
            "Dataset após excluir as colunas 'Sibsp', 'Parch' e 'Ticket':\n",
            "   PassengerId  Survived  Pclass  \\\n",
            "0            1         0       3   \n",
            "1            2         1       1   \n",
            "2            3         1       3   \n",
            "3            4         1       1   \n",
            "4            5         0       3   \n",
            "\n",
            "                                                Name     Sex   Age     Fare  \\\n",
            "0                            Braund, Mr. Owen Harris    male  22.0   7.2500   \n",
            "1  Cumings, Mrs. John Bradley (Florence Briggs Th...  female  38.0  71.2833   \n",
            "2                             Heikkinen, Miss. Laina  female  26.0   7.9250   \n",
            "3       Futrelle, Mrs. Jacques Heath (Lily May Peel)  female  35.0  53.1000   \n",
            "4                           Allen, Mr. William Henry    male  35.0   8.0500   \n",
            "\n",
            "  Cabin Embarked  \n",
            "0   NaN        S  \n",
            "1   C85        C  \n",
            "2   NaN        S  \n",
            "3  C123        S  \n",
            "4   NaN        S  \n"
          ]
        }
      ],
      "source": [
        "# Excluir as colunas Sibsp, Parch e Ticket\n",
        "tit = tit.drop(['SibSp', 'Parch', 'Ticket'], axis=1)\n",
        "\n",
        "print(\"Dataset após excluir as colunas 'Sibsp', 'Parch' e 'Ticket':\")\n",
        "print(tit.head())"
      ]
    },
    {
      "cell_type": "markdown",
      "metadata": {
        "id": "Ywm6ZYE_TgS6"
      },
      "source": [
        "6 - Renomear as colunas restantes para a lingua portuguesa, utilizando os seguintes nomes de colunas: IdPassageiro, Sobreviveu, Classe, Nome, Sexo, Idade, Tarifa, Cabine e Embarque."
      ]
    },
    {
      "cell_type": "code",
      "execution_count": 11,
      "metadata": {
        "id": "WwFGynIHTp0r",
        "colab": {
          "base_uri": "https://localhost:8080/"
        },
        "outputId": "7d20b155-80bc-40e3-89a1-8435d7edb0fb"
      },
      "outputs": [
        {
          "output_type": "stream",
          "name": "stdout",
          "text": [
            "Dataset com colunas renomeadas para português:\n",
            "   IdPassageiro  Sobreviveu  Classe  \\\n",
            "0             1           0       3   \n",
            "1             2           1       1   \n",
            "2             3           1       3   \n",
            "3             4           1       1   \n",
            "4             5           0       3   \n",
            "\n",
            "                                                Nome    Sexo  Idade   Tarifa  \\\n",
            "0                            Braund, Mr. Owen Harris    male   22.0   7.2500   \n",
            "1  Cumings, Mrs. John Bradley (Florence Briggs Th...  female   38.0  71.2833   \n",
            "2                             Heikkinen, Miss. Laina  female   26.0   7.9250   \n",
            "3       Futrelle, Mrs. Jacques Heath (Lily May Peel)  female   35.0  53.1000   \n",
            "4                           Allen, Mr. William Henry    male   35.0   8.0500   \n",
            "\n",
            "  Cabine Embarque  \n",
            "0    NaN        S  \n",
            "1    C85        C  \n",
            "2    NaN        S  \n",
            "3   C123        S  \n",
            "4    NaN        S  \n"
          ]
        }
      ],
      "source": [
        "# Renomear as colunas\n",
        "tit = tit.rename(columns={\n",
        "    'PassengerId': 'IdPassageiro',\n",
        "    'Survived': 'Sobreviveu',\n",
        "    'Pclass': 'Classe',\n",
        "    'Name': 'Nome',\n",
        "    'Sex': 'Sexo',\n",
        "    'Age': 'Idade',\n",
        "    'Fare': 'Tarifa',\n",
        "    'Cabin': 'Cabine',\n",
        "    'Embarked': 'Embarque'\n",
        "})\n",
        "\n",
        "print(\"Dataset com colunas renomeadas para português:\")\n",
        "print(tit.head())\n"
      ]
    },
    {
      "cell_type": "markdown",
      "metadata": {
        "id": "om9yLJRSTgS7"
      },
      "source": [
        "7 - Alterar o conteudo da coluna Sobreviveu para:\n",
        "- 0 => Não\n",
        "- 1 => Sim"
      ]
    },
    {
      "cell_type": "code",
      "execution_count": 12,
      "metadata": {
        "id": "ffDQ85AJTrxZ",
        "colab": {
          "base_uri": "https://localhost:8080/"
        },
        "outputId": "710ac626-3ffb-4270-f9b2-cd8d7b3d372d"
      },
      "outputs": [
        {
          "output_type": "stream",
          "name": "stdout",
          "text": [
            "Conteúdo da coluna 'Sobreviveu' alterado:\n",
            "0    Não\n",
            "1    Sim\n",
            "2    Sim\n",
            "3    Sim\n",
            "4    Não\n",
            "Name: Sobreviveu, dtype: object\n"
          ]
        }
      ],
      "source": [
        "# Alterar o conteúdo da coluna Sobreviveu\n",
        "tit['Sobreviveu'] = tit['Sobreviveu'].replace({0: 'Não', 1: 'Sim'})\n",
        "\n",
        "print(\"Conteúdo da coluna 'Sobreviveu' alterado:\")\n",
        "print(tit['Sobreviveu'].head())\n"
      ]
    },
    {
      "cell_type": "markdown",
      "metadata": {
        "id": "CmoyJaKCTgS7"
      },
      "source": [
        "8 - Alterar o conteudo da coluna Sexo para:\n",
        "- female => Mulher\n",
        "- male   => Homem"
      ]
    },
    {
      "cell_type": "code",
      "execution_count": 13,
      "metadata": {
        "id": "0HCSucRsTtaF",
        "colab": {
          "base_uri": "https://localhost:8080/"
        },
        "outputId": "110bf5d9-943d-44fd-d6ca-4884bf2e07b1"
      },
      "outputs": [
        {
          "output_type": "stream",
          "name": "stdout",
          "text": [
            "Conteúdo da coluna 'Sexo' alterado:\n",
            "0     Homem\n",
            "1    Mulher\n",
            "2    Mulher\n",
            "3    Mulher\n",
            "4     Homem\n",
            "Name: Sexo, dtype: object\n"
          ]
        }
      ],
      "source": [
        "# Alterar o conteúdo da coluna Sexo\n",
        "tit['Sexo'] = tit['Sexo'].replace({'female': 'Mulher', 'male': 'Homem'})\n",
        "\n",
        "print(\"Conteúdo da coluna 'Sexo' alterado:\")\n",
        "print(tit['Sexo'].head())\n"
      ]
    },
    {
      "cell_type": "markdown",
      "metadata": {
        "id": "xns3YqQcTgS7"
      },
      "source": [
        "## Alguns números"
      ]
    },
    {
      "cell_type": "markdown",
      "metadata": {
        "id": "4pDJXfz3TgS7"
      },
      "source": [
        "9 - Quantas mulheres e quantos homems estavam à bordo, de acordo com o dataset?"
      ]
    },
    {
      "cell_type": "code",
      "execution_count": 14,
      "metadata": {
        "id": "vCAQLJAETvPA",
        "colab": {
          "base_uri": "https://localhost:8080/"
        },
        "outputId": "e365f09d-26d9-4f87-cbe6-1fedc48227ef"
      },
      "outputs": [
        {
          "output_type": "stream",
          "name": "stdout",
          "text": [
            "Total de passageiros a bordo: 891\n",
            "Total de homens a bordo: 577 (64.76%)\n",
            "Total de mulheres a bordo: 314 (35.24%)\n"
          ]
        }
      ],
      "source": [
        "# Calcular o total de passageiros, homens e mulheres a bordo\n",
        "total_passageiros = tit['Sexo'].count()\n",
        "\n",
        "total_homens = tit['Sexo'].value_counts()['Homem']  # Conta o número de homens\n",
        "total_mulheres = tit['Sexo'].value_counts()['Mulher']  # Conta o número de mulheres\n",
        "\n",
        "# Calcular os percentuais\n",
        "percentual_homens = (total_homens / total_passageiros) * 100\n",
        "percentual_mulheres = (total_mulheres / total_passageiros) * 100\n",
        "\n",
        "print(\"Total de passageiros a bordo:\", total_passageiros)\n",
        "print(\"Total de homens a bordo:\", total_homens, f\"({percentual_homens:.2f}%)\")\n",
        "print(\"Total de mulheres a bordo:\", total_mulheres, f\"({percentual_mulheres:.2f}%)\")\n"
      ]
    },
    {
      "cell_type": "markdown",
      "metadata": {
        "id": "o6lbuat3TgS7"
      },
      "source": [
        "10 - Quantos passageiros sobreviveram e quantos não sobreviveram?"
      ]
    },
    {
      "cell_type": "code",
      "execution_count": 15,
      "metadata": {
        "id": "3QHMnzbCTweD",
        "colab": {
          "base_uri": "https://localhost:8080/"
        },
        "outputId": "9dada59c-2fdc-4252-df65-23cd45089e59"
      },
      "outputs": [
        {
          "output_type": "stream",
          "name": "stdout",
          "text": [
            "Total de passageiros a bordo: 891\n",
            "Total de passageiros que sobreviveram: 342 (38.38%)\n",
            "Total de passageiros que não sobreviveram: 549 (61.62%)\n"
          ]
        }
      ],
      "source": [
        "# Calcular o total de passageiros, sobreviventes e não sobreviventes a bordo\n",
        "total_passageiros = tit['Sobreviveu'].count()  # Conta o total de passageiros\n",
        "sobreviventes = tit['Sobreviveu'].value_counts()['Sim']  # Conta o número de sobreviventes\n",
        "nao_sobreviventes = tit['Sobreviveu'].value_counts()['Não']  # Conta o número de não sobreviventes\n",
        "\n",
        "# Calcular os percentuais\n",
        "percentual_sobreviventes = (sobreviventes / total_passageiros) * 100\n",
        "percentual_nao_sobreviventes = (nao_sobreviventes / total_passageiros) * 100\n",
        "\n",
        "print(\"Total de passageiros a bordo:\", total_passageiros)\n",
        "print(\"Total de passageiros que sobreviveram:\", sobreviventes, f\"({percentual_sobreviventes:.2f}%)\")\n",
        "print(\"Total de passageiros que não sobreviveram:\", nao_sobreviventes, f\"({percentual_nao_sobreviventes:.2f}%)\")\n"
      ]
    },
    {
      "cell_type": "markdown",
      "metadata": {
        "id": "TJr51qAsTgS8"
      },
      "source": [
        "11 - Quantas mulheres não sobreviveram?"
      ]
    },
    {
      "cell_type": "code",
      "execution_count": 16,
      "metadata": {
        "id": "3ODFPSasTx66",
        "colab": {
          "base_uri": "https://localhost:8080/"
        },
        "outputId": "2f318e61-238e-482a-b71e-89ea5abe0a92"
      },
      "outputs": [
        {
          "output_type": "stream",
          "name": "stdout",
          "text": [
            "Total de mulheres a bordo: 314\n",
            "Total de mulheres que não sobreviveram: 81 (25.80%)\n"
          ]
        }
      ],
      "source": [
        "# Filtrar apenas as mulheres\n",
        "mulheres = tit[tit['Sexo'] == 'Mulher']\n",
        "\n",
        "total_mulheres = mulheres['Sexo'].count()  # Total de mulheres a bordo\n",
        "nao_sobreviveram_mulheres = mulheres['Sobreviveu'].value_counts()['Não']  # Mulheres que não sobreviveram\n",
        "\n",
        "# Calcular o percentual\n",
        "percentual_nao_sobreviveram_mulheres = (nao_sobreviveram_mulheres / total_mulheres) * 100\n",
        "\n",
        "print(\"Total de mulheres a bordo:\", total_mulheres)\n",
        "print(\"Total de mulheres que não sobreviveram:\", nao_sobreviveram_mulheres, f\"({percentual_nao_sobreviveram_mulheres:.2f}%)\")\n"
      ]
    },
    {
      "cell_type": "markdown",
      "metadata": {
        "id": "OLLm023rTgS8"
      },
      "source": [
        "12 - Proporcionalmente, sobreviveram mais homens ou mais mulheres? Cite as proporções."
      ]
    },
    {
      "cell_type": "code",
      "execution_count": 17,
      "metadata": {
        "id": "DaFvn87iTzDj",
        "colab": {
          "base_uri": "https://localhost:8080/"
        },
        "outputId": "1c5ad254-3f9e-42f9-e838-31818ee3d79b"
      },
      "outputs": [
        {
          "output_type": "stream",
          "name": "stdout",
          "text": [
            "Sobrevivência entre homens: 18.89%\n",
            "Sobrevivência entre mulheres: 74.20%\n"
          ]
        }
      ],
      "source": [
        "total_homens = tit['Sexo'].value_counts()['Homem']  # Total de homens a bordo\n",
        "total_mulheres = tit['Sexo'].value_counts()['Mulher']  # Total de mulheres a bordo\n",
        "\n",
        "# Calcular o número de homens e mulheres que sobreviveram\n",
        "sobreviventes_homens = tit[(tit['Sexo'] == 'Homem') & (tit['Sobreviveu'] == 'Sim')]['Sexo'].count()\n",
        "sobreviventes_mulheres = tit[(tit['Sexo'] == 'Mulher') & (tit['Sobreviveu'] == 'Sim')]['Sexo'].count()\n",
        "\n",
        "# Calcular as taxas de sobrevivência\n",
        "taxa_sobrevivencia_homens = (sobreviventes_homens / total_homens) * 100\n",
        "taxa_sobrevivencia_mulheres = (sobreviventes_mulheres / total_mulheres) * 100\n",
        "\n",
        "print(\"Sobrevivência entre homens:\", f\"{taxa_sobrevivencia_homens:.2f}%\")\n",
        "print(\"Sobrevivência entre mulheres:\", f\"{taxa_sobrevivencia_mulheres:.2f}%\")\n"
      ]
    },
    {
      "cell_type": "markdown",
      "metadata": {
        "id": "F5eLSZ_kTgS8"
      },
      "source": [
        "13 - Levando-se em consideração a idade dos passageiros, qual a idade e quantidade de pessoas com o maior número de mortos?"
      ]
    },
    {
      "cell_type": "code",
      "execution_count": 18,
      "metadata": {
        "id": "cPsUUJZIT0L8",
        "colab": {
          "base_uri": "https://localhost:8080/"
        },
        "outputId": "066d4d3f-3f3d-47fb-a047-eed02833bcc2"
      },
      "outputs": [
        {
          "output_type": "stream",
          "name": "stdout",
          "text": [
            "Idade com o maior número de mortos: 21.0\n",
            "Quantidade de pessoas com essa idade que não sobreviveram: 19\n"
          ]
        }
      ],
      "source": [
        "nao_sobreviveram = tit[tit['Sobreviveu'] == 'Não'] # Filtrar apenas os passageiros que não sobreviveram\n",
        "\n",
        "# Encontrar a idade com o maior número de mortos\n",
        "idade_mais_comum = nao_sobreviveram['Idade'].mode().values[0]  # Calcula a idade mais comum\n",
        "quantidade_mortos = nao_sobreviveram[nao_sobreviveram['Idade'] == idade_mais_comum]['Idade'].count()  # Conta a quantidade de pessoas com essa idade\n",
        "\n",
        "print(\"Idade com o maior número de mortos:\", idade_mais_comum)\n",
        "print(\"Quantidade de pessoas com essa idade que não sobreviveram:\", quantidade_mortos)\n"
      ]
    },
    {
      "cell_type": "markdown",
      "metadata": {
        "id": "Q6IAIybZTgS8"
      },
      "source": [
        "14 - Qual a média de idade dos homens sobreviventes?"
      ]
    },
    {
      "cell_type": "code",
      "execution_count": 19,
      "metadata": {
        "id": "eLd5KhGoT2SE",
        "colab": {
          "base_uri": "https://localhost:8080/"
        },
        "outputId": "2d58c511-72a0-4007-86e4-e9571aec0a62"
      },
      "outputs": [
        {
          "output_type": "stream",
          "name": "stdout",
          "text": [
            "Média de idade dos homens sobreviventes: 28.02\n"
          ]
        }
      ],
      "source": [
        "homens_sobreviventes = tit[(tit['Sexo'] == 'Homem') & (tit['Sobreviveu'] == 'Sim')]\n",
        "\n",
        "# Calcular a média de idade dos homens sobreviventes\n",
        "media_idade_homens_sobreviventes = homens_sobreviventes['Idade'].mean()\n",
        "\n",
        "print(\"Média de idade dos homens sobreviventes:\", round(media_idade_homens_sobreviventes, 2))\n"
      ]
    },
    {
      "cell_type": "markdown",
      "metadata": {
        "id": "xj6hJjULTgS8"
      },
      "source": [
        "15 - Levando-se em consideração passageiros prioritários (mulheres e crianças de até 15 anos independente do sexo) qual a proporção de sobreviventes por sexo?"
      ]
    },
    {
      "cell_type": "code",
      "execution_count": 20,
      "metadata": {
        "id": "94IR8qAQT4St",
        "colab": {
          "base_uri": "https://localhost:8080/"
        },
        "outputId": "07b21628-a17a-40d8-8a23-24fcf1284d8f"
      },
      "outputs": [
        {
          "output_type": "stream",
          "name": "stdout",
          "text": [
            "Proporção de sobreviventes por sexo entre passageiros prioritários:\n",
            "Homem     52.500000\n",
            "Mulher    74.203822\n",
            "dtype: float64\n"
          ]
        }
      ],
      "source": [
        "# Filtrar passageiros prioritários: mulheres e crianças até 15 anos\n",
        "passageiros_prioritarios = tit[(tit['Sexo'] == 'Mulher') | (tit['Idade'] <= 15)]\n",
        "\n",
        "sobreviventes_por_sexo = passageiros_prioritarios.groupby('Sexo')['Sobreviveu'].apply(lambda x: (x == 'Sim').sum()) # verificação para cada valor x na coluna 'Sobreviveu\n",
        "\n",
        "# Calcular a proporção\n",
        "total_por_sexo = passageiros_prioritarios['Sexo'].value_counts()\n",
        "proporcao_sobreviventes_por_sexo = sobreviventes_por_sexo / total_por_sexo * 100\n",
        "\n",
        "print(\"Proporção de sobreviventes por sexo entre passageiros prioritários:\")\n",
        "print(proporcao_sobreviventes_por_sexo)\n"
      ]
    },
    {
      "cell_type": "markdown",
      "metadata": {
        "id": "UB_bRGwGTgS8"
      },
      "source": [
        "16 - Qual a quantidade de passageiros por classe?"
      ]
    },
    {
      "cell_type": "code",
      "execution_count": 21,
      "metadata": {
        "id": "U7ProdJ1T40D",
        "colab": {
          "base_uri": "https://localhost:8080/"
        },
        "outputId": "b4350132-239e-42c8-92cb-cdb0dd1c7d9c"
      },
      "outputs": [
        {
          "output_type": "stream",
          "name": "stdout",
          "text": [
            "Quantidade de passageiros por classe:\n",
            "3    491\n",
            "1    216\n",
            "2    184\n",
            "Name: Classe, dtype: int64\n"
          ]
        }
      ],
      "source": [
        "# Quantidade de passageiros por classe\n",
        "quantidade_por_classe = tit['Classe'].value_counts()\n",
        "\n",
        "print(\"Quantidade de passageiros por classe:\")\n",
        "print(quantidade_por_classe)\n"
      ]
    },
    {
      "cell_type": "markdown",
      "metadata": {
        "id": "2D4pHN2DTgS8"
      },
      "source": [
        "17 - Qual o percentual de sobreviventes por classe?"
      ]
    },
    {
      "cell_type": "code",
      "execution_count": 22,
      "metadata": {
        "id": "1FdQfnmCT6We",
        "colab": {
          "base_uri": "https://localhost:8080/"
        },
        "outputId": "7e01a661-eb71-4fcf-de2d-2c631b5c6f01"
      },
      "outputs": [
        {
          "output_type": "stream",
          "name": "stdout",
          "text": [
            "Percentual de sobreviventes por classe:\n",
            "1    62.962963\n",
            "2    47.282609\n",
            "3    24.236253\n",
            "Name: Classe, dtype: float64\n"
          ]
        }
      ],
      "source": [
        "# Número total de passageiros por classe\n",
        "total_por_classe = tit['Classe'].value_counts()\n",
        "\n",
        "# Número de sobreviventes por classe\n",
        "sobreviventes_por_classe = tit[tit['Sobreviveu'] == 'Sim']['Classe'].value_counts()\n",
        "\n",
        "percentual_sobreviventes_por_classe = (sobreviventes_por_classe / total_por_classe) * 100\n",
        "\n",
        "print(\"Percentual de sobreviventes por classe:\")\n",
        "print(percentual_sobreviventes_por_classe)\n"
      ]
    },
    {
      "cell_type": "markdown",
      "metadata": {
        "id": "g_WXfCJ6TgS8"
      },
      "source": [
        "18 - Crie um dataframe que demonstre a quantidade de sobreviventes e não sobreviventes, agrupados por sexo e classe."
      ]
    },
    {
      "cell_type": "code",
      "execution_count": 23,
      "metadata": {
        "id": "qJ6RiYRRT7So",
        "colab": {
          "base_uri": "https://localhost:8080/"
        },
        "outputId": "1a2b326b-c7f0-4e43-fd98-5f4e8c67c4e8"
      },
      "outputs": [
        {
          "output_type": "stream",
          "name": "stdout",
          "text": [
            "Quantidade de sobreviventes e não sobreviventes por sexo e classe:\n",
            "Sobreviveu     Não  Sim\n",
            "Sexo   Classe          \n",
            "Homem  1        77   45\n",
            "       2        91   17\n",
            "       3       300   47\n",
            "Mulher 1         3   91\n",
            "       2         6   70\n",
            "       3        72   72\n"
          ]
        }
      ],
      "source": [
        "# Agrupar os dados por sexo, classe e sobrevivência e contar o número de ocorrências\n",
        "sobreviventes_por_sexo_classe = tit.groupby(['Sexo', 'Classe', 'Sobreviveu']).size().unstack().fillna(0).astype(int)\n",
        "''' Neste código, tit.groupby(['Sexo', 'Classe', 'Sobreviveu']).size() cria os grupos com base nas colunas\n",
        "'Sexo', 'Classe' e 'Sobreviveu' e conta o número de ocorrências em cada grupo.\n",
        "O método .unstack() reorganiza esses dados para ter 'Sexo' e 'Classe' como índices e 'Sobreviveu' como colunas.\n",
        "fillna(0). preenche os valores ausentes (caso não haja ocorrências) com 0\n",
        "astype(int) converte os números para inteiros, para apresentar a quantidade de sobreviventes e não sobreviventes por sexo e classe.\n",
        "'''\n",
        "# Exibir o DataFrame com a quantidade de sobreviventes e não sobreviventes por sexo e classe\n",
        "print(\"Quantidade de sobreviventes e não sobreviventes por sexo e classe:\")\n",
        "print(sobreviventes_por_sexo_classe)\n"
      ]
    },
    {
      "cell_type": "markdown",
      "metadata": {
        "id": "MI1Q_xXKTgS9"
      },
      "source": [
        "19 - Dos homens com idade entre 24 e 30 anos quantos da classe 3 sobreviveram? Quantos da classe 2 não sobreviveram?"
      ]
    },
    {
      "cell_type": "code",
      "execution_count": 24,
      "metadata": {
        "id": "KhmuwtA_T8ZN",
        "colab": {
          "base_uri": "https://localhost:8080/"
        },
        "outputId": "e3c08187-065f-4a63-a56c-43ed12d98f82"
      },
      "outputs": [
        {
          "output_type": "stream",
          "name": "stdout",
          "text": [
            "Homens da Classe 3 (24-30 anos) que sobreviveram: 19\n",
            "Homens da Classe 2 (24-30 anos) que não sobreviveram: 24\n"
          ]
        }
      ],
      "source": [
        "# Filtrar homens com idade entre 24 e 30 anos da Classe 3 e contar os sobreviventes\n",
        "homens_classe3_sobreviveram = tit[(tit['Sexo'] == 'Homem') & (tit['Idade'] >= 24) & (tit['Idade'] <= 30) & (tit['Classe'] == 3) & (tit['Sobreviveu'] == 'Sim')]['Sobreviveu'].count()\n",
        "\n",
        "# Filtrar homens com idade entre 24 e 30 anos da Classe 2 e contar os não sobreviventes\n",
        "homens_classe2_nao_sobreviveram = tit[(tit['Sexo'] == 'Homem') & (tit['Idade'] >= 24) & (tit['Idade'] <= 30) & (tit['Classe'] == 2) & (tit['Sobreviveu'] == 'Não')]['Sobreviveu'].count()\n",
        "\n",
        "print(\"Homens da Classe 3 (24-30 anos) que sobreviveram:\", homens_classe3_sobreviveram)\n",
        "print(\"Homens da Classe 2 (24-30 anos) que não sobreviveram:\", homens_classe2_nao_sobreviveram)\n"
      ]
    }
  ],
  "metadata": {
    "colab": {
      "provenance": []
    },
    "kernelspec": {
      "display_name": "Python 3",
      "language": "python",
      "name": "python3"
    },
    "language_info": {
      "codemirror_mode": {
        "name": "ipython",
        "version": 3
      },
      "file_extension": ".py",
      "mimetype": "text/x-python",
      "name": "python",
      "nbconvert_exporter": "python",
      "pygments_lexer": "ipython3",
      "version": "3.7.3"
    }
  },
  "nbformat": 4,
  "nbformat_minor": 0
}